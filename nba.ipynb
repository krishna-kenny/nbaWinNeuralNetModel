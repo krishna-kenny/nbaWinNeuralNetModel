{
  "nbformat": 4,
  "nbformat_minor": 0,
  "metadata": {
    "colab": {
      "provenance": [],
      "authorship_tag": "ABX9TyNLloeoTgbcMvREWZQryGJX",
      "include_colab_link": true
    },
    "kernelspec": {
      "name": "python3",
      "display_name": "Python 3"
    },
    "language_info": {
      "name": "python"
    }
  },
  "cells": [
    {
      "cell_type": "markdown",
      "metadata": {
        "id": "view-in-github",
        "colab_type": "text"
      },
      "source": [
        "<a href=\"https://colab.research.google.com/github/krishna-kenny/nbaWinNeuralNetModel/blob/main/nba.ipynb\" target=\"_parent\"><img src=\"https://colab.research.google.com/assets/colab-badge.svg\" alt=\"Open In Colab\"/></a>"
      ]
    },
    {
      "cell_type": "code",
      "source": [
        "!pip install nba_api"
      ],
      "metadata": {
        "colab": {
          "base_uri": "https://localhost:8080/"
        },
        "id": "_pfOs3SYHN8u",
        "outputId": "7de94931-31b9-4673-c4b7-6eba8ef32a9d"
      },
      "execution_count": 30,
      "outputs": [
        {
          "output_type": "stream",
          "name": "stdout",
          "text": [
            "Requirement already satisfied: nba_api in /usr/local/lib/python3.10/dist-packages (1.6.1)\n",
            "Requirement already satisfied: numpy<2.0.0,>=1.22.2 in /usr/local/lib/python3.10/dist-packages (from nba_api) (1.26.4)\n",
            "Requirement already satisfied: requests<3.0.0,>=2.32.3 in /usr/local/lib/python3.10/dist-packages (from nba_api) (2.32.3)\n",
            "Requirement already satisfied: charset-normalizer<4,>=2 in /usr/local/lib/python3.10/dist-packages (from requests<3.0.0,>=2.32.3->nba_api) (3.4.0)\n",
            "Requirement already satisfied: idna<4,>=2.5 in /usr/local/lib/python3.10/dist-packages (from requests<3.0.0,>=2.32.3->nba_api) (3.10)\n",
            "Requirement already satisfied: urllib3<3,>=1.21.1 in /usr/local/lib/python3.10/dist-packages (from requests<3.0.0,>=2.32.3->nba_api) (2.2.3)\n",
            "Requirement already satisfied: certifi>=2017.4.17 in /usr/local/lib/python3.10/dist-packages (from requests<3.0.0,>=2.32.3->nba_api) (2024.12.14)\n"
          ]
        }
      ]
    },
    {
      "cell_type": "code",
      "source": [
        "import time\n",
        "import pandas as pd\n",
        "from nba_api.stats.endpoints import TeamInfoCommon, TeamGameLogs, PlayerGameLogs, LeagueGameFinder, LeagueLeaders, PlayerCareerStats\n",
        "from nba_api.stats.static import teams\n",
        "\n",
        "# Maximum number of retries for each API call\n",
        "MAX_RETRIES = 3\n",
        "# Define the list of seasons\n",
        "# Generate all seasons from 2013 onwards\n",
        "start_year = 2024\n",
        "end_year = 2024  # Adjust to your desired year\n",
        "seasons = [f\"{year}-{(year + 1)%100}\" for year in range(start_year, end_year + 1)]\n",
        "\n",
        "# Printing seasons to verify\n",
        "print(seasons)\n"
      ],
      "metadata": {
        "id": "SJ2v4Yzgep72",
        "outputId": "9e6b6dd6-e505-4898-bfcc-dbde0f51b3e3",
        "colab": {
          "base_uri": "https://localhost:8080/"
        }
      },
      "execution_count": 31,
      "outputs": [
        {
          "output_type": "stream",
          "name": "stdout",
          "text": [
            "['2024-25']\n"
          ]
        }
      ]
    },
    {
      "cell_type": "code",
      "source": [
        "def fetch_with_retries(func, *args, **kwargs):\n",
        "    \"\"\"Attempts a function call up to MAX_RETRIES with exponential backoff.\"\"\"\n",
        "    for attempt in range(MAX_RETRIES):\n",
        "        try:\n",
        "            return func(*args, **kwargs)\n",
        "        except Exception as e:\n",
        "            wait_time = 2**attempt  # Exponential backoff\n",
        "            print(f\"Error: {e}. Retrying in {wait_time} seconds...\")\n",
        "            time.sleep(wait_time)\n",
        "    print(f\"Failed after {MAX_RETRIES} attempts.\")\n",
        "    return None"
      ],
      "metadata": {
        "id": "DV6BxvlTerjE"
      },
      "execution_count": 32,
      "outputs": []
    },
    {
      "cell_type": "code",
      "source": [
        "def get_team_info(seasons):\n",
        "    \"\"\"Fetches relevant team information for the specified seasons.\"\"\"\n",
        "    print(\"Fetching team information...\")\n",
        "    nba_teams = teams.get_teams()\n",
        "    team_data = []\n",
        "\n",
        "    for team in nba_teams:\n",
        "        team_info = fetch_with_retries(\n",
        "            TeamInfoCommon,\n",
        "            team_id=team[\"id\"],\n",
        "            season_type_nullable=\"Regular Season\",\n",
        "            timeout=60,\n",
        "        )\n",
        "        if team_info:\n",
        "            df_team = team_info.get_data_frames()[0]\n",
        "            df_team = df_team[[\"TEAM_ID\", \"TEAM_ABBREVIATION\"]]  # Only keep relevant features\n",
        "            team_data.append(df_team)\n",
        "            time.sleep(0.6)  # Delay to avoid API rate limits\n",
        "\n",
        "    if team_data:\n",
        "        df_teams = pd.concat(team_data, ignore_index=True)\n",
        "        df_teams.to_csv(\"nba_team_data.csv\", index=False)\n",
        "    else:\n",
        "        print(\"No team data fetched.\")\n",
        "\n",
        "# Run functions to save data to CSV files\n",
        "get_team_info(seasons)\n",
        "print(\"Team information data stored.\")"
      ],
      "metadata": {
        "id": "uflUFIR0et8B",
        "outputId": "3161bcc3-1c62-4fcc-e5fc-48e99f3c2317",
        "colab": {
          "base_uri": "https://localhost:8080/"
        }
      },
      "execution_count": 33,
      "outputs": [
        {
          "output_type": "stream",
          "name": "stdout",
          "text": [
            "Fetching team information...\n",
            "Team information data stored.\n"
          ]
        }
      ]
    },
    {
      "cell_type": "code",
      "source": [
        "def get_team_game_logs(seasons):\n",
        "    \"\"\"Fetches team game logs for the specified seasons and processes the MATCHUP column.\"\"\"\n",
        "    print(\"Fetching team game logs...\")\n",
        "    game_log_data = []\n",
        "\n",
        "    for season in seasons:\n",
        "        game_logs = fetch_with_retries(\n",
        "            TeamGameLogs,\n",
        "            season_nullable=season,\n",
        "            season_type_nullable=\"Regular Season\",\n",
        "            timeout=60,\n",
        "        )\n",
        "        if game_logs:\n",
        "            df_game_logs = game_logs.get_data_frames()[0]\n",
        "            # Keep only relevant columns\n",
        "            df_game_logs = df_game_logs[[\"GAME_ID\", \"GAME_DATE\", \"MATCHUP\", \"WL\"]]\n",
        "            game_log_data.append(df_game_logs)\n",
        "            time.sleep(0.6)  # Delay to respect rate limits\n",
        "\n",
        "    if game_log_data:\n",
        "        # Concatenate all game logs\n",
        "        df_all_game_logs = pd.concat(game_log_data, ignore_index=True)\n",
        "\n",
        "        # Process MATCHUP column to create team1 and team2 columns\n",
        "        matchups_split = df_all_game_logs['MATCHUP'].str.split(' @ | vs. ', expand=True)\n",
        "        df_all_game_logs['TEAM1'] = matchups_split[0]\n",
        "        df_all_game_logs['TEAM2'] = matchups_split[1]\n",
        "\n",
        "        # Drop the original MATCHUP column if no longer needed\n",
        "        df_all_game_logs.drop(columns=['MATCHUP'], inplace=True)\n",
        "\n",
        "        # Extract and add SEASON_YEAR\n",
        "        df_all_game_logs['SEASON_YEAR'] = pd.to_datetime(df_all_game_logs['GAME_DATE']).dt.year.astype(str)\n",
        "\n",
        "        # Create combined TEAM_SEASON columns\n",
        "        df_all_game_logs['TEAM_SEASON1'] = df_all_game_logs['TEAM1'] + ':' + df_all_game_logs['SEASON_YEAR']\n",
        "        df_all_game_logs['TEAM_SEASON2'] = df_all_game_logs['TEAM2'] + ':' + df_all_game_logs['SEASON_YEAR']\n",
        "\n",
        "        # Drop the original TEAM1, TEAM2, and SEASON_YEAR columns if no longer needed\n",
        "        df_all_game_logs.drop(columns=['TEAM1', 'TEAM2', 'SEASON_YEAR'], inplace=True)\n",
        "\n",
        "        # Save the processed DataFrame to a CSV file\n",
        "        df_all_game_logs.to_csv(\"nba_game_logs.csv\", index=False)\n",
        "        print(\"Processed game logs saved to 'nba_game_logs.csv'.\")\n",
        "    else:\n",
        "        print(\"No game log data fetched.\")\n",
        "\n",
        "get_team_game_logs(seasons)\n",
        "print(\"Team game logs data stored.\")\n"
      ],
      "metadata": {
        "id": "8r9Z1Q8Hev9-",
        "outputId": "b33e0ba6-c4f7-4146-d0ac-50e03fc8332d",
        "colab": {
          "base_uri": "https://localhost:8080/"
        }
      },
      "execution_count": 34,
      "outputs": [
        {
          "output_type": "stream",
          "name": "stdout",
          "text": [
            "Fetching team game logs...\n",
            "Processed game logs saved to 'nba_game_logs.csv'.\n",
            "Team game logs data stored.\n"
          ]
        }
      ]
    },
    {
      "cell_type": "code",
      "source": [
        "def get_player_game_logs(seasons):\n",
        "    \"\"\"Fetches player game logs for the specified seasons.\"\"\"\n",
        "    print(\"Fetching player game logs...\")\n",
        "    player_game_log_data = []\n",
        "\n",
        "    for season in seasons:\n",
        "        player_game_logs = fetch_with_retries(\n",
        "            PlayerGameLogs,\n",
        "            season_nullable=season,\n",
        "            season_type_nullable=\"Regular Season\",\n",
        "            timeout=60,\n",
        "        )\n",
        "        if player_game_logs:\n",
        "            df_player_game_logs = player_game_logs.get_data_frames()[0]\n",
        "            # Keep only relevant columns\n",
        "            df_player_game_logs = df_player_game_logs[[\n",
        "                \"SEASON_YEAR\", \"GAME_ID\", \"TEAM_ID\", \"PLAYER_ID\", \"PLAYER_NAME\", \"PTS\", \"REB\", \"AST\", \"STL\", \"BLK\",\n",
        "                \"MIN\", \"FG_PCT\", \"FG3_PCT\", \"FT_PCT\", \"TOV\", \"PF\"\n",
        "            ]]\n",
        "            # Modify SEASON_YEAR to keep only the first 4 characters\n",
        "            df_player_game_logs[\"SEASON_YEAR\"] = df_player_game_logs[\"SEASON_YEAR\"].str[:4]\n",
        "            player_game_log_data.append(df_player_game_logs)\n",
        "            time.sleep(0.6)\n",
        "\n",
        "    if player_game_log_data:\n",
        "        df_all_player_game_logs = pd.concat(player_game_log_data, ignore_index=True)\n",
        "        df_all_player_game_logs.to_csv(\"nba_player_game_logs.csv\", index=False)\n",
        "    else:\n",
        "        print(\"No player game log data fetched.\")\n",
        "\n",
        "# Call the function with the specified seasons\n",
        "get_player_game_logs(seasons)\n",
        "print(\"Player game logs data stored.\")"
      ],
      "metadata": {
        "id": "mX-tQtyvex59",
        "outputId": "5dff7d42-aa96-40d4-e031-e0d28d6006be",
        "colab": {
          "base_uri": "https://localhost:8080/"
        }
      },
      "execution_count": 35,
      "outputs": [
        {
          "output_type": "stream",
          "name": "stdout",
          "text": [
            "Fetching player game logs...\n",
            "Player game logs data stored.\n"
          ]
        }
      ]
    },
    {
      "cell_type": "code",
      "source": [
        "def get_league_game_data():\n",
        "    \"\"\"Fetches league-wide game data with relevant features for a neural network.\"\"\"\n",
        "    print(\"Fetching league game data for NN...\")\n",
        "    game_data = fetch_with_retries(LeagueGameFinder, timeout=60)\n",
        "    if game_data:\n",
        "        df_game_data = game_data.get_data_frames()[0]\n",
        "        # Relevant columns for neural network input\n",
        "        relevant_columns = [\n",
        "            \"SEASON_ID\", \"TEAM_ID\", \"TEAM_ABBREVIATION\", \"TEAM_NAME\", \"GAME_ID\",\n",
        "            \"GAME_DATE\", \"MATCHUP\", \"WL\", \"MIN\", \"PTS\", \"FGM\", \"FGA\", \"FG_PCT\",\n",
        "            \"FG3M\", \"FG3A\", \"FG3_PCT\", \"FTM\", \"FTA\", \"FT_PCT\", \"OREB\", \"DREB\",\n",
        "            \"REB\", \"AST\", \"STL\", \"BLK\", \"TOV\", \"PF\", \"PLUS_MINUS\"\n",
        "        ]\n",
        "        df_nn_data = df_game_data[relevant_columns]\n",
        "        df_nn_data.to_csv(\"nba_league_game.csv\", index=False)\n",
        "    else:\n",
        "        print(\"No league game data fetched.\")\n",
        "\n",
        "get_league_game_data()\n",
        "print(\"League game data stored.\")"
      ],
      "metadata": {
        "id": "AQfHSeRyezmh",
        "outputId": "04fe4999-03b2-4596-f75a-9abc78092bfa",
        "colab": {
          "base_uri": "https://localhost:8080/"
        }
      },
      "execution_count": 36,
      "outputs": [
        {
          "output_type": "stream",
          "name": "stdout",
          "text": [
            "Fetching league game data for NN...\n",
            "League game data stored.\n"
          ]
        }
      ]
    },
    {
      "cell_type": "code",
      "source": [
        "def get_league_leaders():\n",
        "    \"\"\"Fetches league leaders data with relevant columns for analysis.\"\"\"\n",
        "    print(\"Fetching league leaders data...\")\n",
        "    leaders_data = fetch_with_retries(LeagueLeaders, timeout=60)\n",
        "    if leaders_data:\n",
        "        df_leaders = leaders_data.get_data_frames()[0]\n",
        "        # Select only relevant columns\n",
        "        relevant_columns = [\n",
        "            \"PLAYER_ID\", \"PLAYER\", \"TEAM_ID\", \"TEAM\", \"GP\", \"MIN\", \"FGM\", \"FGA\",\n",
        "            \"FG_PCT\", \"FG3M\", \"FG3A\", \"FG3_PCT\", \"FTM\", \"FTA\", \"FT_PCT\", \"OREB\",\n",
        "            \"DREB\", \"REB\", \"AST\", \"STL\", \"BLK\", \"TOV\", \"PF\", \"PTS\", \"EFF\"\n",
        "        ]\n",
        "        df_relevant_leaders = df_leaders[relevant_columns]\n",
        "        df_relevant_leaders.to_csv(\"nba_league_leaders_relevant.csv\", index=False)\n",
        "    else:\n",
        "        print(\"No league leaders data fetched.\")\n",
        "\n",
        "get_league_leaders()\n",
        "print(\"League leaders data stored.\")"
      ],
      "metadata": {
        "id": "nemrfltYe1I-",
        "outputId": "9c205a49-4e51-4691-ef72-add6d05a49ab",
        "colab": {
          "base_uri": "https://localhost:8080/"
        }
      },
      "execution_count": 37,
      "outputs": [
        {
          "output_type": "stream",
          "name": "stdout",
          "text": [
            "Fetching league leaders data...\n",
            "League leaders data stored.\n"
          ]
        }
      ]
    },
    {
      "cell_type": "code",
      "source": [
        "def get_player_career_stats():\n",
        "    \"\"\"Fetches career stats for players.\"\"\"\n",
        "    print(\"Fetching player career stats...\")\n",
        "    career_stats_data = []\n",
        "    nba_teams = teams.get_teams()\n",
        "    for team in nba_teams:\n",
        "        players = team.get(\"players\", [])\n",
        "        for player in players:\n",
        "            career_stats = fetch_with_retries(PlayerCareerStats, player_id=player[\"id\"], timeout=60)\n",
        "            if career_stats:\n",
        "                df_career_stats = career_stats.get_data_frames()[0]\n",
        "                # Keep only relevant columns\n",
        "                df_career_stats = df_career_stats[[\n",
        "                    \"PLAYER_ID\", \"PLAYER_NAME\", \"GP\", \"PTS\", \"REB\", \"AST\", \"FG_PCT\", \"FG3_PCT\", \"FT_PCT\"\n",
        "                ]]\n",
        "                career_stats_data.append(df_career_stats)\n",
        "                time.sleep(0.6)\n",
        "\n",
        "    if career_stats_data:\n",
        "        df_all_career_stats = pd.concat(career_stats_data, ignore_index=True)\n",
        "        df_all_career_stats.to_csv(\"nba_player_career_stats.csv\", index=False)\n",
        "    else:\n",
        "        print(\"No player career stats data fetched.\")\n",
        "\n",
        "get_player_career_stats()\n",
        "print(\"Player career stats data stored.\")"
      ],
      "metadata": {
        "id": "MBwUaa-We2i8",
        "outputId": "68583f62-595e-412e-d5d5-275d05c8a124",
        "colab": {
          "base_uri": "https://localhost:8080/"
        }
      },
      "execution_count": 38,
      "outputs": [
        {
          "output_type": "stream",
          "name": "stdout",
          "text": [
            "Fetching player career stats...\n",
            "No player career stats data fetched.\n",
            "Player career stats data stored.\n"
          ]
        }
      ]
    },
    {
      "cell_type": "code",
      "source": [
        "\n",
        "import pandas as pd\n",
        "\n",
        "# Load player game logs from the CSV file\n",
        "file_path = \"nba_player_game_logs.csv\"  # Update with your actual file path\n",
        "df = pd.read_csv(file_path)\n",
        "\n",
        "# Exclude non-numerical columns explicitly\n",
        "no_aggregate_columns = ['PLAYER_ID', 'SEASON_YEAR', 'PLAYER_NAME', 'TEAM_ID']  # Adjust as necessary\n",
        "numerical_columns = [col for col in df.columns if col not in no_aggregate_columns]\n",
        "\n",
        "# Group by PLAYER_ID and SEASON_YEAR\n",
        "grouped = df.groupby(['PLAYER_ID', 'SEASON_YEAR'])\n",
        "\n",
        "# Aggregate numerical columns with mean, std, median, and variance\n",
        "aggregated_data = grouped[numerical_columns].agg(['mean', 'std', 'median', 'var']).reset_index()\n",
        "\n",
        "# Flatten multi-level columns\n",
        "aggregated_data.columns = ['_'.join(col).strip('_') for col in aggregated_data.columns]\n",
        "\n",
        "# Add coefficient of variation (CV) separately\n",
        "for col in numerical_columns:\n",
        "    col_mean = f\"{col}_mean\"\n",
        "    col_std = f\"{col}_std\"\n",
        "    col_cv = f\"{col}_cv\"\n",
        "    aggregated_data[col_cv] = aggregated_data[col_std] / aggregated_data[col_mean]\n",
        "    aggregated_data[col_cv] = aggregated_data[col_cv].replace([float('inf'), -float('inf')], None)  # Handle division by zero\n",
        "\n",
        "# Add non-numerical columns using the first value in the group (like TEAM_ID)\n",
        "aggregated_data['TEAM_ID'] = grouped['TEAM_ID'].first().values\n",
        "\n",
        "# Add games played as a new column\n",
        "aggregated_data['GAMES_PLAYED'] = grouped.size().values\n",
        "\n",
        "# Save the aggregated data for further use\n",
        "output_path = \"nba_player_aggregated_data.csv\"\n",
        "aggregated_data.to_csv(output_path, index=False)\n",
        "\n",
        "print(f\"Aggregated data saved to '{output_path}'.\")"
      ],
      "metadata": {
        "colab": {
          "base_uri": "https://localhost:8080/"
        },
        "id": "8dTm6jXFeV36",
        "outputId": "5d9123f4-e70e-4f4d-f324-a121f03365bd"
      },
      "execution_count": 39,
      "outputs": [
        {
          "output_type": "stream",
          "name": "stdout",
          "text": [
            "Aggregated data saved to 'nba_player_aggregated_data.csv'.\n"
          ]
        }
      ]
    },
    {
      "cell_type": "code",
      "source": [
        "\n",
        "import pandas as pd\n",
        "\n",
        "# Load aggregated player data\n",
        "player_aggregated_file = \"nba_player_aggregated_data.csv\"  # Update with your actual file path\n",
        "team_abbreviation_file = \"nba_team_data.csv\"  # File containing TEAM_ID to TEAM_ABBREVIATION mapping\n",
        "\n",
        "# Load player data and team abbreviation mapping\n",
        "player_df = pd.read_csv(player_aggregated_file)\n",
        "team_data_df = pd.read_csv(team_abbreviation_file)\n",
        "\n",
        "# Ensure 'MIN' column exists\n",
        "if 'MIN' not in player_df.columns:\n",
        "    raise KeyError(\"The 'MIN' column is missing from the player data. Please verify the input file.\")\n",
        "\n",
        "# Merge team abbreviations into player data\n",
        "player_df = player_df.merge(team_data_df[['TEAM_ID', 'TEAM_ABBREVIATION']], on=\"TEAM_ID\", how=\"left\")\n",
        "\n",
        "# Combine TEAM_ABBREVIATION and SEASON_YEAR into a new column\n",
        "player_df['TEAM_SEASON'] = player_df['TEAM_ABBREVIATION'] + \":\" + player_df['SEASON_YEAR'].astype(str)\n",
        "\n",
        "# Drop unnecessary columns\n",
        "columns_to_drop = ['TEAM_ABBREVIATION', 'SEASON_YEAR']\n",
        "if 'GAME_ID' in player_df.columns:  # Check if 'GAME_ID' exists\n",
        "    columns_to_drop.append('GAME_ID')\n",
        "\n",
        "player_df.drop(columns=columns_to_drop, inplace=True)\n",
        "\n",
        "# Define non-numerical columns to exclude\n",
        "no_aggregate_columns = ['PLAYER_ID', 'PLAYER_NAME', 'TEAM_ID', 'TEAM_SEASON']\n",
        "numerical_columns = [col for col in player_df.columns if col not in no_aggregate_columns]\n",
        "\n",
        "# Ensure previous aggregate features (mean, median, std, cv) are incorporated\n",
        "aggregate_stats = ['mean', 'median', 'std', 'cv']\n",
        "numerical_columns = [\n",
        "    col for col in numerical_columns\n",
        "    if any(col.endswith(stat) for stat in aggregate_stats)\n",
        "]\n",
        "\n",
        "# Multiply each player's stats by their 'MIN' to weight the statistics\n",
        "for col in numerical_columns:\n",
        "    player_df[f\"{col}_WEIGHTED\"] = player_df[col] * player_df['MIN']\n",
        "\n",
        "# Group by TEAM_SEASON\n",
        "grouped = player_df.groupby(['TEAM_SEASON'])\n",
        "\n",
        "# Compute team-level weighted stats as the sum of weighted stats\n",
        "weighted_stats = grouped[[f\"{col}_WEIGHTED\" for col in numerical_columns]].sum()\n",
        "\n",
        "# Rename back to original column names by stripping '_WEIGHTED'\n",
        "weighted_stats.columns = [col.replace('_WEIGHTED', '') for col in weighted_stats.columns]\n",
        "\n",
        "# Compute total minutes played by the team\n",
        "total_minutes = grouped['MIN'].sum()\n",
        "\n",
        "# Normalize weighted stats by dividing by total minutes\n",
        "team_aggregated_data = weighted_stats.div(total_minutes, axis=0)\n",
        "team_aggregated_data['TOTAL_MIN'] = total_minutes\n",
        "\n",
        "# Add additional columns\n",
        "team_aggregated_data['TEAM_GAMES_PLAYED'] = grouped['GAMES_PLAYED'].sum()\n",
        "\n",
        "# Reset index to flatten the DataFrame\n",
        "team_aggregated_data.reset_index(inplace=True)\n",
        "\n",
        "# Save the aggregated data for further use\n",
        "output_path = \"nba_team_aggregated_data.csv\"\n",
        "team_aggregated_data.to_csv(output_path, index=False)\n",
        "\n",
        "print(f\"Team aggregated data saved to '{output_path}'.\")\n",
        "print(team_aggregated_data.head())"
      ],
      "metadata": {
        "colab": {
          "base_uri": "https://localhost:8080/",
          "height": 436
        },
        "id": "ojGa1FcvBwsO",
        "outputId": "a29a225c-5217-4ef5-b7cf-92173c03c335"
      },
      "execution_count": 41,
      "outputs": [
        {
          "output_type": "error",
          "ename": "KeyError",
          "evalue": "\"The 'MIN' column is missing from the player data. Please verify the input file.\"",
          "traceback": [
            "\u001b[0;31m---------------------------------------------------------------------------\u001b[0m",
            "\u001b[0;31mKeyError\u001b[0m                                  Traceback (most recent call last)",
            "\u001b[0;32m<ipython-input-41-8f2d947ae2a1>\u001b[0m in \u001b[0;36m<cell line: 12>\u001b[0;34m()\u001b[0m\n\u001b[1;32m     11\u001b[0m \u001b[0;31m# Ensure 'MIN' column exists\u001b[0m\u001b[0;34m\u001b[0m\u001b[0;34m\u001b[0m\u001b[0m\n\u001b[1;32m     12\u001b[0m \u001b[0;32mif\u001b[0m \u001b[0;34m'MIN'\u001b[0m \u001b[0;32mnot\u001b[0m \u001b[0;32min\u001b[0m \u001b[0mplayer_df\u001b[0m\u001b[0;34m.\u001b[0m\u001b[0mcolumns\u001b[0m\u001b[0;34m:\u001b[0m\u001b[0;34m\u001b[0m\u001b[0;34m\u001b[0m\u001b[0m\n\u001b[0;32m---> 13\u001b[0;31m     \u001b[0;32mraise\u001b[0m \u001b[0mKeyError\u001b[0m\u001b[0;34m(\u001b[0m\u001b[0;34m\"The 'MIN' column is missing from the player data. Please verify the input file.\"\u001b[0m\u001b[0;34m)\u001b[0m\u001b[0;34m\u001b[0m\u001b[0;34m\u001b[0m\u001b[0m\n\u001b[0m\u001b[1;32m     14\u001b[0m \u001b[0;34m\u001b[0m\u001b[0m\n\u001b[1;32m     15\u001b[0m \u001b[0;31m# Merge team abbreviations into player data\u001b[0m\u001b[0;34m\u001b[0m\u001b[0;34m\u001b[0m\u001b[0m\n",
            "\u001b[0;31mKeyError\u001b[0m: \"The 'MIN' column is missing from the player data. Please verify the input file.\""
          ]
        }
      ]
    },
    {
      "cell_type": "code",
      "source": [
        "import pandas as pd\n",
        "import numpy as np\n",
        "import joblib\n",
        "from sklearn.model_selection import train_test_split\n",
        "from sklearn.preprocessing import StandardScaler\n",
        "from imblearn.over_sampling import SMOTE\n",
        "from tensorflow.keras.models import Sequential\n",
        "from tensorflow.keras.layers import Dense, Dropout\n",
        "from tensorflow.keras.optimizers import Adam\n",
        "from tensorflow.keras import backend as K"
      ],
      "metadata": {
        "id": "M8jLxkQKWOmv"
      },
      "execution_count": null,
      "outputs": []
    },
    {
      "cell_type": "code",
      "source": [
        "def extract_season_year(game_date):\n",
        "    \"\"\"\n",
        "    Extracts the year from a game date in the format 'YYYY-MM-DDTHH:MM:SS'.\n",
        "\n",
        "    Args:\n",
        "        game_date (str): The game date string.\n",
        "\n",
        "    Returns:\n",
        "        str: The year as a string.\n",
        "    \"\"\"\n",
        "    try:\n",
        "        return pd.to_datetime(game_date).year\n",
        "    except Exception as e:\n",
        "        print(f\"Error parsing date '{game_date}': {e}\")\n",
        "        return None"
      ],
      "metadata": {
        "id": "cydqZx_RvyGo"
      },
      "execution_count": null,
      "outputs": []
    },
    {
      "cell_type": "code",
      "source": [
        "import pandas as pd\n",
        "import numpy as np\n",
        "from sklearn.preprocessing import StandardScaler\n",
        "from sklearn.model_selection import train_test_split\n",
        "from imblearn.over_sampling import SMOTE\n",
        "from keras.models import Sequential\n",
        "from keras.layers import Dense, Dropout, Input\n",
        "from keras.optimizers import Adam\n",
        "import joblib\n",
        "import tensorflow.keras.backend as K\n",
        "from keras.callbacks import EarlyStopping\n",
        "from keras.regularizers import l2\n",
        "\n",
        "def custom_accuracy(y_true, y_pred):\n",
        "    \"\"\"\n",
        "    Custom accuracy metric to evaluate the model based on given conditions.\n",
        "    \"\"\"\n",
        "    condition_1 = K.cast(y_pred < 0.5, dtype=\"float32\") * K.cast(y_true == 0, dtype=\"float32\")\n",
        "    condition_2 = K.cast(y_pred >= 0.5, dtype=\"float32\") * K.cast(y_true == 1, dtype=\"float32\")\n",
        "    return K.mean(condition_1 + condition_2)\n",
        "\n",
        "\n",
        "def prepare_dataset(game_logs_file, features_file):\n",
        "    \"\"\"\n",
        "    Prepare dataset for training using transformed features (difference and ratio).\n",
        "    \"\"\"\n",
        "    try:\n",
        "        # Load game logs and team features\n",
        "        game_logs = pd.read_csv(game_logs_file, parse_dates=[\"GAME_DATE\"])\n",
        "        team_features = pd.read_csv(features_file)\n",
        "\n",
        "        # Normalize key columns\n",
        "        game_logs[\"TEAM_SEASON1\"] = game_logs[\"TEAM_SEASON1\"].str.strip().str.upper()\n",
        "        game_logs[\"TEAM_SEASON2\"] = game_logs[\"TEAM_SEASON2\"].str.strip().str.upper()\n",
        "\n",
        "        # Merge features for TEAM1 and TEAM2\n",
        "        game_logs = game_logs.merge(\n",
        "            team_features.add_suffix(\"_TEAM1\"),\n",
        "            left_on=[\"TEAM_SEASON1\"],\n",
        "            right_on=[\"TEAM_SEASON_TEAM1\"],\n",
        "            how=\"left\"\n",
        "        ).merge(\n",
        "            team_features.add_suffix(\"_TEAM2\"),\n",
        "            left_on=[\"TEAM_SEASON2\"],\n",
        "            right_on=[\"TEAM_SEASON_TEAM2\"],\n",
        "            how=\"left\"\n",
        "        )\n",
        "\n",
        "        # Drop unnecessary columns\n",
        "        columns_to_drop = [\"TEAM_SEASON_TEAM1\", \"TEAM_SEASON_TEAM2\", \"GAME_DATE\"]\n",
        "        game_logs.drop(columns=[col for col in columns_to_drop if col in game_logs.columns], inplace=True)\n",
        "\n",
        "        # Handle missing values\n",
        "        game_logs.fillna(0, inplace=True)\n",
        "\n",
        "        # Extract features and target\n",
        "        feature_columns_team1 = [col for col in game_logs.columns if col.endswith(\"_TEAM1\")]\n",
        "        feature_columns_team2 = [col.replace(\"_TEAM1\", \"_TEAM2\") for col in feature_columns_team1]\n",
        "\n",
        "        # Ensure column alignment\n",
        "        feature_columns_team2 = [col for col in feature_columns_team2 if col in game_logs.columns]\n",
        "\n",
        "        # Compute transformed features: (Team1 - Team2) / (Team1 + Team2)\n",
        "        X = []\n",
        "        for t1, t2 in zip(feature_columns_team1, feature_columns_team2):\n",
        "            difference = game_logs[t1] - game_logs[t2]\n",
        "            summation = game_logs[t1] + game_logs[t2]\n",
        "            transformed_feature = difference / (summation + 1e-5)  # Add small value to avoid division by zero\n",
        "            X.append(transformed_feature)\n",
        "\n",
        "        X = np.stack(X, axis=-1)\n",
        "        y = (game_logs[\"WL\"] == \"W\").astype(int).to_numpy()\n",
        "\n",
        "        return X, y, feature_columns_team1\n",
        "\n",
        "    except Exception as e:\n",
        "        print(\"An error occurred in prepare_dataset:\", e)\n",
        "        raise\n",
        "\n",
        "\n",
        "def build_neural_network(input_shape):\n",
        "    \"\"\"\n",
        "    Build a neural network model with added regularization.\n",
        "    \"\"\"\n",
        "    model = Sequential([\n",
        "        Input(shape=(input_shape,)),\n",
        "        Dense(1, activation=\"sigmoid\")\n",
        "    ])\n",
        "    model.compile(optimizer=Adam(learning_rate=0.001),  # Reduced learning rate\n",
        "                  loss=\"binary_crossentropy\",\n",
        "                  metrics=[custom_accuracy])\n",
        "\n",
        "    print(model.summary())\n",
        "\n",
        "    return model\n",
        "\n",
        "\n",
        "def train_model(X, y, save_data_prefix=\"train_data\"):\n",
        "    \"\"\"\n",
        "    Train a neural network model and save the processed data.\n",
        "    \"\"\"\n",
        "    # Normalize features\n",
        "    scaler = StandardScaler()\n",
        "    X_scaled = scaler.fit_transform(X)\n",
        "\n",
        "    # Handle class imbalance\n",
        "    X_resampled, y_resampled = SMOTE().fit_resample(X_scaled, y)\n",
        "\n",
        "    # Save processed training data\n",
        "    pd.DataFrame(X_resampled).to_csv(f\"{save_data_prefix}_X.csv\", index=False, header=False)\n",
        "    pd.DataFrame(y_resampled).to_csv(f\"{save_data_prefix}_y.csv\", index=False, header=False)\n",
        "\n",
        "    # Debugging output\n",
        "    print(f\"Processed training data saved to {save_data_prefix}_X.csv and {save_data_prefix}_y.csv.\")\n",
        "    print(f\"Resampled Features Shape: {X_resampled.shape}, Resampled Target Shape: {y_resampled.shape}\")\n",
        "\n",
        "    # Build the model\n",
        "    model = build_neural_network(X_resampled.shape[1])\n",
        "\n",
        "    # Early stopping to prevent overfitting\n",
        "    early_stopping = EarlyStopping(monitor=\"val_loss\", patience=16, restore_best_weights=True)\n",
        "\n",
        "    # Train the model\n",
        "    model.fit(X_resampled, y_resampled,\n",
        "              epochs=64,\n",
        "              batch_size=1,\n",
        "              validation_split=0.2,\n",
        "              callbacks=[early_stopping])\n",
        "\n",
        "    return model, scaler\n",
        "\n",
        "\n",
        "\n",
        "def main():\n",
        "    game_logs_file = \"nba_game_logs.csv\"\n",
        "    features_file = \"nba_team_aggregated_data.csv\"\n",
        "\n",
        "    # Prepare the dataset\n",
        "    X, y, feature_columns = prepare_dataset(game_logs_file, features_file)\n",
        "\n",
        "    # Split the data\n",
        "    X_train, X_test, y_train, y_test = train_test_split(X, y, test_size=0.2)\n",
        "\n",
        "    # Validate split\n",
        "    assert X_train.shape[0] == y_train.shape[0], \"Mismatch in training data sizes.\"\n",
        "    assert X_test.shape[0] == y_test.shape[0], \"Mismatch in test data sizes.\"\n",
        "\n",
        "    # Train neural network\n",
        "    model, scaler = train_model(X_train, y_train)\n",
        "\n",
        "    # Save the model and scaler\n",
        "    model.save(\"model.keras\")\n",
        "    joblib.dump(scaler, \"scaler.pkl\")\n",
        "\n",
        "    # Evaluate the model\n",
        "    X_test_scaled = scaler.transform(X_test)\n",
        "    test_loss, test_custom_accuracy = model.evaluate(X_test_scaled, y_test)\n",
        "    print(f\"Test Loss: {test_loss}, Test Custom Accuracy: {test_custom_accuracy}\")\n",
        "\n",
        "    # Predictions\n",
        "    y_pred = model.predict(X_test_scaled)\n",
        "    pd.DataFrame({\"Actual\": y_test.flatten(), \"Predicted\": y_pred.flatten()}).to_csv(\"predictions.csv\", index=False)\n",
        "    print(\"Predictions saved to predictions.csv\")\n",
        "\n",
        "\n",
        "if __name__ == \"__main__\":\n",
        "    main()\n"
      ],
      "metadata": {
        "id": "_cuhZRejGr7s"
      },
      "execution_count": null,
      "outputs": []
    },
    {
      "cell_type": "code",
      "source": [
        "import pandas as pd\n",
        "import numpy as np\n",
        "import joblib\n",
        "from nba_api.stats.static import teams\n",
        "from keras.models import load_model\n",
        "\n",
        "\n",
        "def prepare_features(team_season1, team_season2, features_file, scaler, feature_columns):\n",
        "    \"\"\"\n",
        "    Prepare input features for prediction by combining team-specific features.\n",
        "    \"\"\"\n",
        "    try:\n",
        "        # Load team features\n",
        "        team_features = pd.read_csv(features_file)\n",
        "\n",
        "        # Normalize team names\n",
        "        team_features[\"TEAM_SEASON\"] = team_features[\"TEAM_SEASON\"].str.strip().str.upper()\n",
        "        team_season1 = team_season1.strip().upper()\n",
        "        team_season2 = team_season2.strip().upper()\n",
        "\n",
        "        # Extract features for the two teams\n",
        "        features_team1 = team_features[team_features[\"TEAM_SEASON\"] == team_season1].add_suffix(\"_TEAM1\")\n",
        "        features_team2 = team_features[team_features[\"TEAM_SEASON\"] == team_season2].add_suffix(\"_TEAM2\")\n",
        "\n",
        "        if features_team1.empty or features_team2.empty:\n",
        "            raise ValueError(f\"Features for {team_season1} or {team_season2} not found in the file.\")\n",
        "\n",
        "        # Combine features\n",
        "        combined_features = pd.concat([features_team1.reset_index(drop=True),\n",
        "                                        features_team2.reset_index(drop=True)], axis=1)\n",
        "\n",
        "        # Align with feature_columns and fill missing values with 0\n",
        "        combined_features = combined_features.reindex(columns=feature_columns, fill_value=0)\n",
        "\n",
        "        # Scale features\n",
        "        X = combined_features.to_numpy()\n",
        "        X_scaled = scaler.transform(X)\n",
        "\n",
        "        return X_scaled\n",
        "\n",
        "    except Exception as e:\n",
        "        print(\"An error occurred in prepare_features:\", e)\n",
        "        raise\n",
        "\n",
        "\n",
        "def predict(team_season1, team_season2, model_path, scaler_path, features_file, feature_columns):\n",
        "    \"\"\"\n",
        "    Predict the probability of Team 1 beating Team 2.\n",
        "    \"\"\"\n",
        "    try:\n",
        "        # Load the model and scaler\n",
        "        model = load_model(model_path, custom_objects={\"custom_accuracy\": custom_accuracy})\n",
        "        scaler = joblib.load(scaler_path)\n",
        "\n",
        "        # Prepare the input features\n",
        "        X_scaled = prepare_features(team_season1, team_season2, features_file, scaler, feature_columns)\n",
        "\n",
        "        # Make predictions\n",
        "        probability = model.predict(X_scaled).flatten()[0]\n",
        "\n",
        "        print(f\"Probability of {team_season1} beating {team_season2}: {probability:.2%}\")\n",
        "        return probability\n",
        "\n",
        "    except Exception as e:\n",
        "        print(\"An error occurred in predict:\", e)\n",
        "        raise\n",
        "\n",
        "\n",
        "def custom_accuracy(y_true, y_pred):\n",
        "    \"\"\"\n",
        "    Custom accuracy metric to evaluate the model based on given conditions.\n",
        "    \"\"\"\n",
        "    import tensorflow.keras.backend as K\n",
        "    condition_1 = K.cast(y_pred < 0.5, dtype=\"float32\") * K.cast(y_true == 0, dtype=\"float32\")\n",
        "    condition_2 = K.cast(y_pred >= 0.5, dtype=\"float32\") * K.cast(y_true == 1, dtype=\"float32\")\n",
        "    return K.mean(condition_1 + condition_2)\n",
        "\n",
        "\n",
        "def display_team_data():\n",
        "    \"\"\"\n",
        "    Display available team abbreviations and names for user reference.\n",
        "    \"\"\"\n",
        "    nba_teams = teams.get_teams()\n",
        "    print(\"Available NBA Teams:\")\n",
        "    for team in nba_teams:\n",
        "        print(f\"{team['abbreviation']} - {team['full_name']}\")\n",
        "\n",
        "\n",
        "if __name__ == \"__main__\":\n",
        "    display_team_data()\n",
        "    # Example usage\n",
        "    team_season1 = input(\"Enter TEAM_SEASON like team:season (e.g., GSW:2024): \")\n",
        "    team_season2 = input(\"Enter TEAM_SEASON like team:season (e.g., PHI:2024): \")\n",
        "    model_path = \"model.keras\"\n",
        "    scaler_path = \"scaler.pkl\"\n",
        "    features_file = \"nba_team_aggregated_data.csv\"\n",
        "\n",
        "    # Load feature columns from the training process\n",
        "    feature_columns = pd.read_csv(\"train_data_X.csv\", nrows=0).columns.tolist()\n",
        "\n",
        "    predict(team_season1, team_season2, model_path, scaler_path, features_file, feature_columns)\n"
      ],
      "metadata": {
        "id": "_ilaXJR5Ud-1"
      },
      "execution_count": null,
      "outputs": []
    }
  ]
}